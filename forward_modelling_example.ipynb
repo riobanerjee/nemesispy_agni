{
 "cells": [
  {
   "cell_type": "code",
   "execution_count": 1,
   "id": "f9aec53d",
   "metadata": {},
   "outputs": [],
   "source": [
    "import matplotlib.pyplot as plt\n",
    "import numpy as np\n",
    "import pandas as pd\n",
    "from nemesispy.common.info_mol_id import mol_id\n",
    "from nemesispy.common.constants import *\n",
    "import os\n",
    "from nemesispy.radtran.forward_model import ForwardModel\n",
    "from nemesispy.radtran.calc_mmw import calc_mmw\n",
    "\n",
    "import spectres"
   ]
  },
  {
   "cell_type": "markdown",
   "id": "fc3bcdd4",
   "metadata": {},
   "source": [
    "# Loading"
   ]
  },
  {
   "cell_type": "markdown",
   "id": "08c79079",
   "metadata": {},
   "source": [
    "#### Loading in .ref/.prf file"
   ]
  },
  {
   "cell_type": "markdown",
   "id": "179a3f83",
   "metadata": {},
   "source": [
    "Add whatever columns you need"
   ]
  },
  {
   "cell_type": "code",
   "execution_count": 2,
   "id": "fe0e4640",
   "metadata": {},
   "outputs": [
    {
     "ename": "FileNotFoundError",
     "evalue": "[Errno 2] No such file or directory: './example_data/hd189.prf'",
     "output_type": "error",
     "traceback": [
      "\u001b[0;31m---------------------------------------------------------------------------\u001b[0m",
      "\u001b[0;31mFileNotFoundError\u001b[0m                         Traceback (most recent call last)",
      "Cell \u001b[0;32mIn[2], line 2\u001b[0m\n\u001b[1;32m      1\u001b[0m prf_header \u001b[38;5;241m=\u001b[39m [\u001b[38;5;124m'\u001b[39m\u001b[38;5;124mheight\u001b[39m\u001b[38;5;124m'\u001b[39m, \u001b[38;5;124m'\u001b[39m\u001b[38;5;124mpress\u001b[39m\u001b[38;5;124m'\u001b[39m, \u001b[38;5;124m'\u001b[39m\u001b[38;5;124mtemp\u001b[39m\u001b[38;5;124m'\u001b[39m, \u001b[38;5;124m'\u001b[39m\u001b[38;5;124mh2o\u001b[39m\u001b[38;5;124m'\u001b[39m, \u001b[38;5;124m'\u001b[39m\u001b[38;5;124mco2\u001b[39m\u001b[38;5;124m'\u001b[39m, \u001b[38;5;124m'\u001b[39m\u001b[38;5;124mco\u001b[39m\u001b[38;5;124m'\u001b[39m, \u001b[38;5;124m'\u001b[39m\u001b[38;5;124mch4\u001b[39m\u001b[38;5;124m'\u001b[39m, \u001b[38;5;124m'\u001b[39m\u001b[38;5;124mh2\u001b[39m\u001b[38;5;124m'\u001b[39m, \u001b[38;5;124m'\u001b[39m\u001b[38;5;124mhe\u001b[39m\u001b[38;5;124m'\u001b[39m, \u001b[38;5;124m'\u001b[39m\u001b[38;5;124mna\u001b[39m\u001b[38;5;124m'\u001b[39m, \u001b[38;5;124m'\u001b[39m\u001b[38;5;124mk\u001b[39m\u001b[38;5;124m'\u001b[39m]\n\u001b[0;32m----> 2\u001b[0m prf \u001b[38;5;241m=\u001b[39m \u001b[43mpd\u001b[49m\u001b[38;5;241;43m.\u001b[39;49m\u001b[43mread_csv\u001b[49m\u001b[43m(\u001b[49m\u001b[38;5;124;43m'\u001b[39;49m\u001b[38;5;124;43m./example_data/hd189.prf\u001b[39;49m\u001b[38;5;124;43m'\u001b[39;49m\u001b[43m,\u001b[49m\u001b[43m \u001b[49m\u001b[43mskiprows\u001b[49m\u001b[38;5;241;43m=\u001b[39;49m\u001b[38;5;241;43m11\u001b[39;49m\u001b[43m,\u001b[49m\u001b[43m \u001b[49m\u001b[43mheader\u001b[49m\u001b[38;5;241;43m=\u001b[39;49m\u001b[38;5;28;43;01mNone\u001b[39;49;00m\u001b[43m,\u001b[49m\u001b[43m \u001b[49m\u001b[43msep\u001b[49m\u001b[38;5;241;43m=\u001b[39;49m\u001b[38;5;124;43m'\u001b[39;49m\u001b[38;5;124;43m\\\u001b[39;49m\u001b[38;5;124;43ms+\u001b[39;49m\u001b[38;5;124;43m'\u001b[39;49m\u001b[43m)\u001b[49m\n\u001b[1;32m      3\u001b[0m prf\u001b[38;5;241m.\u001b[39mcolumns \u001b[38;5;241m=\u001b[39m prf_header\n\u001b[1;32m      4\u001b[0m \u001b[38;5;28mprint\u001b[39m(prf\u001b[38;5;241m.\u001b[39mhead())\n",
      "File \u001b[0;32m/STEM/data/project/users/ab39556/.conda/envs/archnem_joe/lib/python3.11/site-packages/pandas/io/parsers/readers.py:1026\u001b[0m, in \u001b[0;36mread_csv\u001b[0;34m(filepath_or_buffer, sep, delimiter, header, names, index_col, usecols, dtype, engine, converters, true_values, false_values, skipinitialspace, skiprows, skipfooter, nrows, na_values, keep_default_na, na_filter, verbose, skip_blank_lines, parse_dates, infer_datetime_format, keep_date_col, date_parser, date_format, dayfirst, cache_dates, iterator, chunksize, compression, thousands, decimal, lineterminator, quotechar, quoting, doublequote, escapechar, comment, encoding, encoding_errors, dialect, on_bad_lines, delim_whitespace, low_memory, memory_map, float_precision, storage_options, dtype_backend)\u001b[0m\n\u001b[1;32m   1013\u001b[0m kwds_defaults \u001b[38;5;241m=\u001b[39m _refine_defaults_read(\n\u001b[1;32m   1014\u001b[0m     dialect,\n\u001b[1;32m   1015\u001b[0m     delimiter,\n\u001b[0;32m   (...)\u001b[0m\n\u001b[1;32m   1022\u001b[0m     dtype_backend\u001b[38;5;241m=\u001b[39mdtype_backend,\n\u001b[1;32m   1023\u001b[0m )\n\u001b[1;32m   1024\u001b[0m kwds\u001b[38;5;241m.\u001b[39mupdate(kwds_defaults)\n\u001b[0;32m-> 1026\u001b[0m \u001b[38;5;28;01mreturn\u001b[39;00m \u001b[43m_read\u001b[49m\u001b[43m(\u001b[49m\u001b[43mfilepath_or_buffer\u001b[49m\u001b[43m,\u001b[49m\u001b[43m \u001b[49m\u001b[43mkwds\u001b[49m\u001b[43m)\u001b[49m\n",
      "File \u001b[0;32m/STEM/data/project/users/ab39556/.conda/envs/archnem_joe/lib/python3.11/site-packages/pandas/io/parsers/readers.py:620\u001b[0m, in \u001b[0;36m_read\u001b[0;34m(filepath_or_buffer, kwds)\u001b[0m\n\u001b[1;32m    617\u001b[0m _validate_names(kwds\u001b[38;5;241m.\u001b[39mget(\u001b[38;5;124m\"\u001b[39m\u001b[38;5;124mnames\u001b[39m\u001b[38;5;124m\"\u001b[39m, \u001b[38;5;28;01mNone\u001b[39;00m))\n\u001b[1;32m    619\u001b[0m \u001b[38;5;66;03m# Create the parser.\u001b[39;00m\n\u001b[0;32m--> 620\u001b[0m parser \u001b[38;5;241m=\u001b[39m \u001b[43mTextFileReader\u001b[49m\u001b[43m(\u001b[49m\u001b[43mfilepath_or_buffer\u001b[49m\u001b[43m,\u001b[49m\u001b[43m \u001b[49m\u001b[38;5;241;43m*\u001b[39;49m\u001b[38;5;241;43m*\u001b[39;49m\u001b[43mkwds\u001b[49m\u001b[43m)\u001b[49m\n\u001b[1;32m    622\u001b[0m \u001b[38;5;28;01mif\u001b[39;00m chunksize \u001b[38;5;129;01mor\u001b[39;00m iterator:\n\u001b[1;32m    623\u001b[0m     \u001b[38;5;28;01mreturn\u001b[39;00m parser\n",
      "File \u001b[0;32m/STEM/data/project/users/ab39556/.conda/envs/archnem_joe/lib/python3.11/site-packages/pandas/io/parsers/readers.py:1620\u001b[0m, in \u001b[0;36mTextFileReader.__init__\u001b[0;34m(self, f, engine, **kwds)\u001b[0m\n\u001b[1;32m   1617\u001b[0m     \u001b[38;5;28mself\u001b[39m\u001b[38;5;241m.\u001b[39moptions[\u001b[38;5;124m\"\u001b[39m\u001b[38;5;124mhas_index_names\u001b[39m\u001b[38;5;124m\"\u001b[39m] \u001b[38;5;241m=\u001b[39m kwds[\u001b[38;5;124m\"\u001b[39m\u001b[38;5;124mhas_index_names\u001b[39m\u001b[38;5;124m\"\u001b[39m]\n\u001b[1;32m   1619\u001b[0m \u001b[38;5;28mself\u001b[39m\u001b[38;5;241m.\u001b[39mhandles: IOHandles \u001b[38;5;241m|\u001b[39m \u001b[38;5;28;01mNone\u001b[39;00m \u001b[38;5;241m=\u001b[39m \u001b[38;5;28;01mNone\u001b[39;00m\n\u001b[0;32m-> 1620\u001b[0m \u001b[38;5;28mself\u001b[39m\u001b[38;5;241m.\u001b[39m_engine \u001b[38;5;241m=\u001b[39m \u001b[38;5;28;43mself\u001b[39;49m\u001b[38;5;241;43m.\u001b[39;49m\u001b[43m_make_engine\u001b[49m\u001b[43m(\u001b[49m\u001b[43mf\u001b[49m\u001b[43m,\u001b[49m\u001b[43m \u001b[49m\u001b[38;5;28;43mself\u001b[39;49m\u001b[38;5;241;43m.\u001b[39;49m\u001b[43mengine\u001b[49m\u001b[43m)\u001b[49m\n",
      "File \u001b[0;32m/STEM/data/project/users/ab39556/.conda/envs/archnem_joe/lib/python3.11/site-packages/pandas/io/parsers/readers.py:1880\u001b[0m, in \u001b[0;36mTextFileReader._make_engine\u001b[0;34m(self, f, engine)\u001b[0m\n\u001b[1;32m   1878\u001b[0m     \u001b[38;5;28;01mif\u001b[39;00m \u001b[38;5;124m\"\u001b[39m\u001b[38;5;124mb\u001b[39m\u001b[38;5;124m\"\u001b[39m \u001b[38;5;129;01mnot\u001b[39;00m \u001b[38;5;129;01min\u001b[39;00m mode:\n\u001b[1;32m   1879\u001b[0m         mode \u001b[38;5;241m+\u001b[39m\u001b[38;5;241m=\u001b[39m \u001b[38;5;124m\"\u001b[39m\u001b[38;5;124mb\u001b[39m\u001b[38;5;124m\"\u001b[39m\n\u001b[0;32m-> 1880\u001b[0m \u001b[38;5;28mself\u001b[39m\u001b[38;5;241m.\u001b[39mhandles \u001b[38;5;241m=\u001b[39m \u001b[43mget_handle\u001b[49m\u001b[43m(\u001b[49m\n\u001b[1;32m   1881\u001b[0m \u001b[43m    \u001b[49m\u001b[43mf\u001b[49m\u001b[43m,\u001b[49m\n\u001b[1;32m   1882\u001b[0m \u001b[43m    \u001b[49m\u001b[43mmode\u001b[49m\u001b[43m,\u001b[49m\n\u001b[1;32m   1883\u001b[0m \u001b[43m    \u001b[49m\u001b[43mencoding\u001b[49m\u001b[38;5;241;43m=\u001b[39;49m\u001b[38;5;28;43mself\u001b[39;49m\u001b[38;5;241;43m.\u001b[39;49m\u001b[43moptions\u001b[49m\u001b[38;5;241;43m.\u001b[39;49m\u001b[43mget\u001b[49m\u001b[43m(\u001b[49m\u001b[38;5;124;43m\"\u001b[39;49m\u001b[38;5;124;43mencoding\u001b[39;49m\u001b[38;5;124;43m\"\u001b[39;49m\u001b[43m,\u001b[49m\u001b[43m \u001b[49m\u001b[38;5;28;43;01mNone\u001b[39;49;00m\u001b[43m)\u001b[49m\u001b[43m,\u001b[49m\n\u001b[1;32m   1884\u001b[0m \u001b[43m    \u001b[49m\u001b[43mcompression\u001b[49m\u001b[38;5;241;43m=\u001b[39;49m\u001b[38;5;28;43mself\u001b[39;49m\u001b[38;5;241;43m.\u001b[39;49m\u001b[43moptions\u001b[49m\u001b[38;5;241;43m.\u001b[39;49m\u001b[43mget\u001b[49m\u001b[43m(\u001b[49m\u001b[38;5;124;43m\"\u001b[39;49m\u001b[38;5;124;43mcompression\u001b[39;49m\u001b[38;5;124;43m\"\u001b[39;49m\u001b[43m,\u001b[49m\u001b[43m \u001b[49m\u001b[38;5;28;43;01mNone\u001b[39;49;00m\u001b[43m)\u001b[49m\u001b[43m,\u001b[49m\n\u001b[1;32m   1885\u001b[0m \u001b[43m    \u001b[49m\u001b[43mmemory_map\u001b[49m\u001b[38;5;241;43m=\u001b[39;49m\u001b[38;5;28;43mself\u001b[39;49m\u001b[38;5;241;43m.\u001b[39;49m\u001b[43moptions\u001b[49m\u001b[38;5;241;43m.\u001b[39;49m\u001b[43mget\u001b[49m\u001b[43m(\u001b[49m\u001b[38;5;124;43m\"\u001b[39;49m\u001b[38;5;124;43mmemory_map\u001b[39;49m\u001b[38;5;124;43m\"\u001b[39;49m\u001b[43m,\u001b[49m\u001b[43m \u001b[49m\u001b[38;5;28;43;01mFalse\u001b[39;49;00m\u001b[43m)\u001b[49m\u001b[43m,\u001b[49m\n\u001b[1;32m   1886\u001b[0m \u001b[43m    \u001b[49m\u001b[43mis_text\u001b[49m\u001b[38;5;241;43m=\u001b[39;49m\u001b[43mis_text\u001b[49m\u001b[43m,\u001b[49m\n\u001b[1;32m   1887\u001b[0m \u001b[43m    \u001b[49m\u001b[43merrors\u001b[49m\u001b[38;5;241;43m=\u001b[39;49m\u001b[38;5;28;43mself\u001b[39;49m\u001b[38;5;241;43m.\u001b[39;49m\u001b[43moptions\u001b[49m\u001b[38;5;241;43m.\u001b[39;49m\u001b[43mget\u001b[49m\u001b[43m(\u001b[49m\u001b[38;5;124;43m\"\u001b[39;49m\u001b[38;5;124;43mencoding_errors\u001b[39;49m\u001b[38;5;124;43m\"\u001b[39;49m\u001b[43m,\u001b[49m\u001b[43m \u001b[49m\u001b[38;5;124;43m\"\u001b[39;49m\u001b[38;5;124;43mstrict\u001b[39;49m\u001b[38;5;124;43m\"\u001b[39;49m\u001b[43m)\u001b[49m\u001b[43m,\u001b[49m\n\u001b[1;32m   1888\u001b[0m \u001b[43m    \u001b[49m\u001b[43mstorage_options\u001b[49m\u001b[38;5;241;43m=\u001b[39;49m\u001b[38;5;28;43mself\u001b[39;49m\u001b[38;5;241;43m.\u001b[39;49m\u001b[43moptions\u001b[49m\u001b[38;5;241;43m.\u001b[39;49m\u001b[43mget\u001b[49m\u001b[43m(\u001b[49m\u001b[38;5;124;43m\"\u001b[39;49m\u001b[38;5;124;43mstorage_options\u001b[39;49m\u001b[38;5;124;43m\"\u001b[39;49m\u001b[43m,\u001b[49m\u001b[43m \u001b[49m\u001b[38;5;28;43;01mNone\u001b[39;49;00m\u001b[43m)\u001b[49m\u001b[43m,\u001b[49m\n\u001b[1;32m   1889\u001b[0m \u001b[43m\u001b[49m\u001b[43m)\u001b[49m\n\u001b[1;32m   1890\u001b[0m \u001b[38;5;28;01massert\u001b[39;00m \u001b[38;5;28mself\u001b[39m\u001b[38;5;241m.\u001b[39mhandles \u001b[38;5;129;01mis\u001b[39;00m \u001b[38;5;129;01mnot\u001b[39;00m \u001b[38;5;28;01mNone\u001b[39;00m\n\u001b[1;32m   1891\u001b[0m f \u001b[38;5;241m=\u001b[39m \u001b[38;5;28mself\u001b[39m\u001b[38;5;241m.\u001b[39mhandles\u001b[38;5;241m.\u001b[39mhandle\n",
      "File \u001b[0;32m/STEM/data/project/users/ab39556/.conda/envs/archnem_joe/lib/python3.11/site-packages/pandas/io/common.py:873\u001b[0m, in \u001b[0;36mget_handle\u001b[0;34m(path_or_buf, mode, encoding, compression, memory_map, is_text, errors, storage_options)\u001b[0m\n\u001b[1;32m    868\u001b[0m \u001b[38;5;28;01melif\u001b[39;00m \u001b[38;5;28misinstance\u001b[39m(handle, \u001b[38;5;28mstr\u001b[39m):\n\u001b[1;32m    869\u001b[0m     \u001b[38;5;66;03m# Check whether the filename is to be opened in binary mode.\u001b[39;00m\n\u001b[1;32m    870\u001b[0m     \u001b[38;5;66;03m# Binary mode does not support 'encoding' and 'newline'.\u001b[39;00m\n\u001b[1;32m    871\u001b[0m     \u001b[38;5;28;01mif\u001b[39;00m ioargs\u001b[38;5;241m.\u001b[39mencoding \u001b[38;5;129;01mand\u001b[39;00m \u001b[38;5;124m\"\u001b[39m\u001b[38;5;124mb\u001b[39m\u001b[38;5;124m\"\u001b[39m \u001b[38;5;129;01mnot\u001b[39;00m \u001b[38;5;129;01min\u001b[39;00m ioargs\u001b[38;5;241m.\u001b[39mmode:\n\u001b[1;32m    872\u001b[0m         \u001b[38;5;66;03m# Encoding\u001b[39;00m\n\u001b[0;32m--> 873\u001b[0m         handle \u001b[38;5;241m=\u001b[39m \u001b[38;5;28;43mopen\u001b[39;49m\u001b[43m(\u001b[49m\n\u001b[1;32m    874\u001b[0m \u001b[43m            \u001b[49m\u001b[43mhandle\u001b[49m\u001b[43m,\u001b[49m\n\u001b[1;32m    875\u001b[0m \u001b[43m            \u001b[49m\u001b[43mioargs\u001b[49m\u001b[38;5;241;43m.\u001b[39;49m\u001b[43mmode\u001b[49m\u001b[43m,\u001b[49m\n\u001b[1;32m    876\u001b[0m \u001b[43m            \u001b[49m\u001b[43mencoding\u001b[49m\u001b[38;5;241;43m=\u001b[39;49m\u001b[43mioargs\u001b[49m\u001b[38;5;241;43m.\u001b[39;49m\u001b[43mencoding\u001b[49m\u001b[43m,\u001b[49m\n\u001b[1;32m    877\u001b[0m \u001b[43m            \u001b[49m\u001b[43merrors\u001b[49m\u001b[38;5;241;43m=\u001b[39;49m\u001b[43merrors\u001b[49m\u001b[43m,\u001b[49m\n\u001b[1;32m    878\u001b[0m \u001b[43m            \u001b[49m\u001b[43mnewline\u001b[49m\u001b[38;5;241;43m=\u001b[39;49m\u001b[38;5;124;43m\"\u001b[39;49m\u001b[38;5;124;43m\"\u001b[39;49m\u001b[43m,\u001b[49m\n\u001b[1;32m    879\u001b[0m \u001b[43m        \u001b[49m\u001b[43m)\u001b[49m\n\u001b[1;32m    880\u001b[0m     \u001b[38;5;28;01melse\u001b[39;00m:\n\u001b[1;32m    881\u001b[0m         \u001b[38;5;66;03m# Binary mode\u001b[39;00m\n\u001b[1;32m    882\u001b[0m         handle \u001b[38;5;241m=\u001b[39m \u001b[38;5;28mopen\u001b[39m(handle, ioargs\u001b[38;5;241m.\u001b[39mmode)\n",
      "\u001b[0;31mFileNotFoundError\u001b[0m: [Errno 2] No such file or directory: './example_data/hd189.prf'"
     ]
    }
   ],
   "source": [
    "prf_header = ['height', 'press', 'temp', 'h2o', 'co2', 'co', 'ch4', 'h2', 'he', 'na', 'k']\n",
    "prf = pd.read_csv('./example_data/hd189.prf', skiprows=11, header=None, sep='\\s+')\n",
    "prf.columns = prf_header\n",
    "print(prf.head())\n",
    "H_model = prf['height'].values * 1e3\n",
    "P_model = prf['press'].values * ATM\n",
    "T_model = prf['temp'].values\n",
    "VMR_model = prf[['h2o', 'co2', 'co', 'ch4','na','k', 'h2', 'he']].values\n",
    "NLAYER = len(P_model) # Number of layers"
   ]
  },
  {
   "cell_type": "markdown",
   "id": "77d818ef",
   "metadata": {},
   "source": [
    "#### Loading in planet spectrum"
   ]
  },
  {
   "cell_type": "code",
   "execution_count": null,
   "id": "ca642586",
   "metadata": {},
   "outputs": [],
   "source": [
    "planet_spec = pd.read_csv('./example_data/hd189_data.txt', header=None, sep='\\s+')\n",
    "planet_wave = planet_spec[0].values\n",
    "planet_flux = planet_spec[1].values\n",
    "planet_err = planet_spec[2].values\n",
    "print(np.diff(planet_wave))\n",
    "plt.errorbar(planet_wave, planet_flux, yerr=planet_err, xerr=0.022, fmt='o')"
   ]
  },
  {
   "cell_type": "markdown",
   "id": "169e66a8",
   "metadata": {},
   "source": [
    "#### Loading in stellar spectrum"
   ]
  },
  {
   "cell_type": "markdown",
   "id": "ec7ff598",
   "metadata": {},
   "source": [
    "If your spectrum is in watts (luminosity), need to divide by 4pi. This will be applicable if you're using a sol file compatible with NEMESIS."
   ]
  },
  {
   "cell_type": "code",
   "execution_count": null,
   "id": "f4fccee7",
   "metadata": {},
   "outputs": [],
   "source": [
    "\n",
    "st_spec = pd.read_csv('./example_data/hd189.dat', skiprows=3, header=None, sep='\\s+')\n",
    "st_wave_full = st_spec[0].values\n",
    "st_flux_full = st_spec[1].values / (4*np.pi) # Check this!\n",
    "st_wave = planet_wave.copy()\n",
    "st_flux = spectres.spectres(planet_wave, st_wave_full, st_flux_full)\n",
    "plt.loglog(st_wave_full, st_flux_full)\n",
    "plt.loglog(st_wave, st_flux)\n",
    "# plt.gca().set_xscale('log')"
   ]
  },
  {
   "cell_type": "markdown",
   "id": "2ffb2676",
   "metadata": {},
   "source": [
    "#### Other parameters"
   ]
  },
  {
   "cell_type": "markdown",
   "id": "d2d4b719",
   "metadata": {},
   "source": [
    "Specify wavelengths, the resolution of the disc average, mass and radius of the planet, what gases you're using, and the opacity table paths."
   ]
  },
  {
   "cell_type": "code",
   "execution_count": null,
   "id": "a1a468c8",
   "metadata": {},
   "outputs": [],
   "source": [
    "# Wavelengths grid for the spectrum (microns)\n",
    "wave_grid = planet_wave\n",
    "nwave = len(wave_grid)\n",
    "\n",
    "# Pick resolution for the disc average\n",
    "nmu = 5 # Number of mu bins\n",
    "\n",
    "# Reference planetary parameters\n",
    "M_plt = 2167.664 * 1e24\n",
    "R_plt = 84592.31 * 1e3 # m\n",
    "\n",
    "# List of gas species to include in the model using identifiers\n",
    "gas_names_active = ['H2O', 'CO2', 'CO', 'CH4','Na','K']\n",
    "nvmr = len(gas_names_active)\n",
    "\n",
    "# Spectrally inactive gases to include\n",
    "gas_names_inactive = ['H2', 'He']\n",
    "gas_id = [mol_id[gas] for gas in gas_names_active] + [mol_id[gas] for gas in gas_names_inactive]\n",
    "gas_id = np.array(gas_id)\n",
    "iso_id = np.zeros_like(gas_id) # Isotopologue identifier\n",
    "\n",
    "\n",
    "lowres_file_paths = [f'{gas}_hd189_refl.kta' for gas in gas_names_active]\n",
    "__location__ = '.'\n",
    "ktable_path = os.path.join(__location__, \"nemesispy/data/ktables\")\n",
    "for ipath,path in enumerate(lowres_file_paths):\n",
    "    lowres_file_paths[ipath] = os.path.join(ktable_path,path)\n",
    "cia_folder_path = os.path.join(__location__ , \"nemesispy/data/cia\")\n",
    "cia_file_path = os.path.join(cia_folder_path,'exocia_hitran12_200-3800K.tab')"
   ]
  },
  {
   "cell_type": "code",
   "execution_count": null,
   "id": "6b560e01",
   "metadata": {},
   "outputs": [],
   "source": [
    "    # Create a ForwardModel object\n",
    "FM = ForwardModel()\n",
    "FM.set_planet_model(\n",
    "    M_plt=M_plt,R_plt=R_plt,\n",
    "    gas_id_list=gas_id,iso_id_list=iso_id,\n",
    "    NLAYER=NLAYER\n",
    "    )\n",
    "FM.set_opacity_data(\n",
    "    kta_file_paths=lowres_file_paths,\n",
    "    cia_file_path=cia_file_path\n",
    ")\n",
    "print(lowres_file_paths)"
   ]
  },
  {
   "cell_type": "markdown",
   "id": "f3b1d2cf",
   "metadata": {},
   "source": [
    "# Forward model analysis"
   ]
  },
  {
   "cell_type": "markdown",
   "id": "30c53c84",
   "metadata": {},
   "source": [
    "We want to vary metallicity, a cloud parameterisation, and what the cloud is comprised of. "
   ]
  },
  {
   "cell_type": "markdown",
   "id": "75e9bf4a",
   "metadata": {},
   "source": [
    "First, we will define a (placeholder) function that takes a metallicity parameter and returns a modified VMR model."
   ]
  },
  {
   "cell_type": "code",
   "execution_count": null,
   "id": "b0ca35c4",
   "metadata": {},
   "outputs": [],
   "source": [
    "print(gas_id)"
   ]
  },
  {
   "cell_type": "code",
   "execution_count": null,
   "id": "f87bbd52",
   "metadata": {},
   "outputs": [],
   "source": [
    "def metallicity_to_VMR(metallicity, original_VMR_model):\n",
    "    # Link this to a chemical model, or something else\n",
    "    # As a placeholder, we'll just scale all the gases except H2 and He\n",
    "    VMR_model = original_VMR_model.copy()\n",
    "    VMR_model[:,:6] = VMR_model[:,:6] * metallicity\n",
    "    return VMR_model"
   ]
  },
  {
   "cell_type": "markdown",
   "id": "f9708311",
   "metadata": {},
   "source": [
    "Next up is the cloud parameterisation. We'll do something like model 9 in NEMESIS. This is very rough and was written quickly, so you might want to check it/write your own. In particular, the opacity will probably be quite off. But I'm assuming you want to use an optically thick cloud in which case you can just set it high."
   ]
  },
  {
   "cell_type": "code",
   "execution_count": null,
   "id": "afd95ff0",
   "metadata": {},
   "outputs": [],
   "source": [
    "from scipy.integrate import simpson\n",
    "\n",
    "def cloud_top_pressure_to_A(VMR_model,\n",
    "                            cloud_top_pressure, \n",
    "                            opacity = 10.0,\n",
    "                            fsh = 1.0):\n",
    "    \n",
    "    A_model = np.zeros_like(P_model)\n",
    "    \n",
    "    cloud_top_height = np.interp(np.log(cloud_top_pressure),np.log(P_model[::-1]),H_model[::-1])\n",
    "    \n",
    "    \n",
    "    \n",
    "    grav = G*M_plt/((R_plt+H_model)**2)\n",
    "    molwt = calc_mmw(gas_id, VMR_model.T)    \n",
    "    \n",
    "    scale = K_B* T_model / (molwt * grav)\n",
    "\n",
    "    for i in np.where(H_model > cloud_top_height)[0]:\n",
    "        if A_model[i-1] == 0:\n",
    "            A_model[i] = 1\n",
    "            continue\n",
    "\n",
    "        A_model[i] = A_model[i-1] * np.exp(-(H_model[i] - H_model[i-1])/(scale[i]*fsh))\n",
    "    A_model = A_model*(opacity/simpson(A_model,x=H_model))*1e4\n",
    "        \n",
    "    #A_model has to be shape (NLAYER,NMODES)\n",
    "    A_model = A_model[:,None]\n",
    "    return A_model"
   ]
  },
  {
   "cell_type": "code",
   "execution_count": null,
   "id": "b3c53013",
   "metadata": {},
   "outputs": [],
   "source": [
    "plt.plot(P_model,cloud_top_pressure_to_A(VMR_model,1e5))\n",
    "plt.xscale('log')"
   ]
  },
  {
   "cell_type": "markdown",
   "id": "c17101da",
   "metadata": {},
   "source": [
    "Now let's write a function that takes a path to a text file containing the real and imaginary refractive index spectrum for some aerosol."
   ]
  },
  {
   "cell_type": "code",
   "execution_count": null,
   "id": "8e40b51e",
   "metadata": {},
   "outputs": [],
   "source": [
    "def aerosol_path_to_forward_model(path, forward_model,\n",
    "                                 mean_size = 0.05,\n",
    "                                 size_variance = 0.05):\n",
    "    \n",
    "    aerosol = pd.read_csv(path, skiprows=2, header=None, sep='\\s+')\n",
    "    \n",
    "    wave = aerosol[0].values\n",
    "    n_real = aerosol[1].values\n",
    "    n_imag = aerosol[2].values\n",
    "    \n",
    "    # Setting up phase function\n",
    "    \n",
    "    forward_model.clear_phase_function()\n",
    "    \n",
    "    n_imag_wave_grid = wave\n",
    "\n",
    "    n_imag =  n_imag\n",
    "    n_real = n_real\n",
    "\n",
    "    forward_model.add_phase_function(mean_size = mean_size, \n",
    "                          size_variance = size_variance, \n",
    "                          n_imag = n_imag, \n",
    "                          n_imag_wave_grid = n_imag_wave_grid, \n",
    "                          n_real_reference = n_real,\n",
    "                          n_real_reference_wave= wave_grid.min(),\n",
    "                          iscat = 1)\n",
    "    return forward_model"
   ]
  },
  {
   "cell_type": "markdown",
   "id": "8455a14c",
   "metadata": {},
   "source": [
    "Let's test this and see what it looks like."
   ]
  },
  {
   "cell_type": "code",
   "execution_count": null,
   "id": "27747236",
   "metadata": {},
   "outputs": [],
   "source": [
    "FM = aerosol_path_to_forward_model('./example_data/enstatite.dat',FM)\n",
    "\n",
    "fig, axs = plt.subplots(2, 3, figsize=(12, 8))\n",
    "parameters = ['Extinction cross section','Scattering cross section',\n",
    "              'HG-fit: f','HG-fit: g1','HG-fit: g2','HG fit error']\n",
    "for i in range(6):\n",
    "    row = i // 3\n",
    "    col = i % 3\n",
    "    axs[row, col].plot(FM.wave_grid, FM.phase_func[:, :, i].transpose())\n",
    "    axs[row, col].legend([f'{parameters[i]} (mode 1)', f'{parameters[i]} (mode 2)'])\n",
    "\n",
    "plt.tight_layout()\n",
    "plt.show()"
   ]
  },
  {
   "cell_type": "markdown",
   "id": "7a76abea",
   "metadata": {},
   "source": [
    "Now we can run our forward model analysis. You might want to parallelise over one of the loops if it's taking too long. It will take a minute or so to start running for the first time."
   ]
  },
  {
   "cell_type": "code",
   "execution_count": null,
   "id": "9b960dd5",
   "metadata": {
    "scrolled": true
   },
   "outputs": [],
   "source": [
    "import sys\n",
    "\n",
    "phase_angle = 0\n",
    "\n",
    "n_steps = 10\n",
    "\n",
    "metallicities = 10**np.linspace(0,3,n_steps)\n",
    "cloud_top_pressures = 10**np.linspace(2,-3,n_steps) * 101325\n",
    "aerosol_paths = ['./example_data/enstatite.dat']\n",
    "\n",
    "print(f\"Min, Max metallicity: {metallicities.min(),metallicities.max()}\")\n",
    "print(f\"Min, Max cloud top pressures (bar): {cloud_top_pressures.min()/101325,cloud_top_pressures.max()/101325}\")\n",
    "      \n",
    "\n",
    "chisq_grid = np.zeros(((len(aerosol_paths),len(metallicities),len(cloud_top_pressures))))\n",
    "\n",
    "for iap, ap in enumerate(aerosol_paths):\n",
    "    \n",
    "    FM = aerosol_path_to_forward_model(ap,FM)\n",
    "    \n",
    "    for im, m in enumerate(metallicities):\n",
    "        \n",
    "        adjusted_VMR_model = metallicity_to_VMR(m , VMR_model)\n",
    "        \n",
    "        for ictp, ctp in enumerate(cloud_top_pressures):\n",
    "\n",
    "            A_model = cloud_top_pressure_to_A(adjusted_VMR_model, ctp)\n",
    "\n",
    "            spec_out = FM.calc_point_spectrum_uniform(phase = phase_angle,\n",
    "                                          P_model = P_model,\n",
    "                                          T_model = T_model,\n",
    "                                          VMR_model = adjusted_VMR_model,\n",
    "                                          solspec = st_flux,\n",
    "                                          A_model = A_model\n",
    "                                  )\n",
    "            chisq = ((spec_out - planet_flux)**2/planet_err**2).mean()\n",
    "            chisq_grid[iap,im,ictp] = chisq      \n",
    "            \n",
    "            output = f\"Chisq: {chisq:.2f}, Metallicity: {m:.2e}, Cloud top pressure (bar): {ctp/101325:.2e}, Path: {ap}, Spectrum: {ictp+im*n_steps+iap*n_steps*n_steps+1}/{chisq_grid.size}\"\n",
    "            sys.stdout.write(f\"\\r{output.ljust(800)}\") \n",
    "            sys.stdout.flush()\n"
   ]
  },
  {
   "cell_type": "code",
   "execution_count": null,
   "id": "2c395e9b",
   "metadata": {},
   "outputs": [],
   "source": [
    "for iap, ap in enumerate(aerosol_paths):\n",
    "    X, Y = np.meshgrid(np.log10(metallicities), np.log10(cloud_top_pressures / 101325)) \n",
    "    Z = chisq_grid[iap]\n",
    "\n",
    "    plt.figure(figsize=(8, 6))\n",
    "    contour = plt.contourf(X, Y, Z, levels=20, cmap='inferno_r')\n",
    "    plt.colorbar(contour, label=r'$\\chi^2$')\n",
    "\n",
    "    plt.title(f'Chisq Contour Plot for Aerosol Path: {ap}')\n",
    "    plt.xlabel('Log10(Metallicity)')\n",
    "    plt.ylabel('Log10(Cloud Top Pressure [bar])')\n",
    "    plt.grid(True, which='both', linestyle='--', alpha=0.6)\n",
    "\n",
    "    plt.tight_layout()\n",
    "    plt.show()"
   ]
  },
  {
   "cell_type": "code",
   "execution_count": null,
   "id": "25128f45",
   "metadata": {},
   "outputs": [],
   "source": []
  }
 ],
 "metadata": {
  "kernelspec": {
   "display_name": "archnem_joe",
   "language": "python",
   "name": "python3"
  },
  "language_info": {
   "codemirror_mode": {
    "name": "ipython",
    "version": 3
   },
   "file_extension": ".py",
   "mimetype": "text/x-python",
   "name": "python",
   "nbconvert_exporter": "python",
   "pygments_lexer": "ipython3",
   "version": "3.11.9"
  }
 },
 "nbformat": 4,
 "nbformat_minor": 5
}
